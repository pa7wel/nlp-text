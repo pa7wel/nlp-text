{
 "cells": [
  {
   "attachments": {},
   "cell_type": "markdown",
   "metadata": {},
   "source": [
    "Import 100 articles abstract from pubmed"
   ]
  },
  {
   "cell_type": "code",
   "execution_count": 9,
   "metadata": {},
   "outputs": [],
   "source": [
    "import json\n",
    "import csv\n",
    "import pandas as pd\n",
    "from Bio import Entrez\n",
    "from Bio import Medline"
   ]
  },
  {
   "cell_type": "code",
   "execution_count": 12,
   "metadata": {},
   "outputs": [
    {
     "name": "stdout",
     "output_type": "stream",
     "text": [
      "CSV file created: pubmed_abstracts.csv\n"
     ]
    }
   ],
   "source": [
    "# Define your search query\n",
    "query = \"clinical research in ophthalmology\"\n",
    "\n",
    "# Function to search PubMed\n",
    "def search_pubmed(query, retmax=100):\n",
    "    handle = Entrez.esearch(db=\"pubmed\", term=query, retmax=retmax)\n",
    "    record = Entrez.read(handle)\n",
    "    return record[\"IdList\"]\n",
    "\n",
    "# Function to fetch article metadata and abstract\n",
    "def fetch_article_data(pubmed_ids):\n",
    "    article_data = []\n",
    "    handle = Entrez.efetch(db=\"pubmed\", id=','.join(pubmed_ids), rettype=\"medline\", retmode=\"text\")\n",
    "    records = Medline.parse(handle)\n",
    "    for record in records:\n",
    "        article_data.append(record)\n",
    "    return article_data\n",
    "\n",
    "# Search PubMed and fetch article metadata and abstracts\n",
    "pubmed_ids = search_pubmed(query)\n",
    "article_data = fetch_article_data(pubmed_ids)\n",
    "\n",
    "# Save the data in CSV format\n",
    "with open(\"pubmed_abstracts.csv\", \"w\", newline='', encoding=\"utf-8\") as csvfile:\n",
    "    writer = csv.writer(csvfile)\n",
    "    writer.writerow([\"Title\", \"Journal\", \"Publication Date\", \"PubMed ID\", \"Abstract\"])\n",
    "    for article in article_data:\n",
    "        writer.writerow([\n",
    "            article.get(\"TI\", \"N/A\"),\n",
    "            article.get(\"JT\", \"N/A\"),\n",
    "            article.get(\"DP\", \"N/A\"),\n",
    "            article.get(\"PMID\", \"N/A\"),\n",
    "            article.get(\"AB\", \"N/A\"),\n",
    "        ])\n",
    "\n",
    "print(\"CSV file created: pubmed_abstracts.csv\")"
   ]
  },
  {
   "cell_type": "code",
   "execution_count": 4,
   "metadata": {},
   "outputs": [],
   "source": [
    "# create array with random 10 numbers between 0 and 1"
   ]
  }
 ],
 "metadata": {
  "kernelspec": {
   "display_name": "Python 3",
   "language": "python",
   "name": "python3"
  },
  "language_info": {
   "codemirror_mode": {
    "name": "ipython",
    "version": 3
   },
   "file_extension": ".py",
   "mimetype": "text/x-python",
   "name": "python",
   "nbconvert_exporter": "python",
   "pygments_lexer": "ipython3",
   "version": "3.10.7"
  },
  "orig_nbformat": 4
 },
 "nbformat": 4,
 "nbformat_minor": 2
}
